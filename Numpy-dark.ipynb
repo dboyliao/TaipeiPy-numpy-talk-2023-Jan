{
 "cells": [
  {
   "cell_type": "markdown",
   "id": "ef6ee7e1-4d54-4ed8-a065-98be1c7a6f30",
   "metadata": {
    "slideshow": {
     "slide_type": "slide"
    }
   },
   "source": [
    "## NumPy: the Dark Side and Its Applications\n",
    "\n",
    "![numpy-logo](images/NumPy_logo_2020.svg)\n",
    "\n",
    "**Dboy Liao**\n",
    "\n",
    "[Medium](https://medium.com/@dboyliao)\n",
    "[GitHub](https://github.com/dboyliao)\n",
    "[LinkedIn](https://www.linkedin.com/in/yin-chen-liao-69967188/)\n",
    "[CakeResume](https://www.cakeresume.com/dboyliao)\n",
    "\n",
    "<a href=\"https://github.com/dboyliao/TaipeiPy-numpy-talk-2023-Jan\" target=\"_blank\" style=\"position: absolute; top: 0; right: 0; z-index: 200;\">\n",
    "    <img decoding=\"async\" loading=\"lazy\" width=\"149\" height=\"149\" src=\"https://github.blog/wp-content/uploads/2008/12/forkme_right_darkblue_121621.png?resize=200%2C200\" class=\"attachment-full size-full\" alt=\"Fork me on GitHub\" data-recalc-dims=\"1\">\n",
    "</a>"
   ]
  },
  {
   "cell_type": "markdown",
   "id": "1f30a480-22ad-4a2f-a009-252e9f6557f0",
   "metadata": {
    "slideshow": {
     "slide_type": "slide"
    }
   },
   "source": [
    "# The NumPy `ndarray`"
   ]
  },
  {
   "cell_type": "markdown",
   "id": "7a93bfc4",
   "metadata": {
    "slideshow": {
     "slide_type": "fragment"
    }
   },
   "source": [
    "```cpp\n",
    "int matrix[3][5];\n",
    "```"
   ]
  },
  {
   "cell_type": "markdown",
   "id": "3ca4d257",
   "metadata": {
    "slideshow": {
     "slide_type": "fragment"
    }
   },
   "source": [
    "- arbitrary shape?"
   ]
  },
  {
   "cell_type": "markdown",
   "id": "16e90736",
   "metadata": {
    "slideshow": {
     "slide_type": "fragment"
    }
   },
   "source": [
    "- flexible reshape?"
   ]
  },
  {
   "cell_type": "markdown",
   "id": "85108cee",
   "metadata": {
    "slideshow": {
     "slide_type": "fragment"
    }
   },
   "source": [
    "- different data type?"
   ]
  },
  {
   "cell_type": "markdown",
   "id": "02d78314",
   "metadata": {
    "slideshow": {
     "slide_type": "subslide"
    }
   },
   "source": [
    "![no-cpp](images/no_cpp.jpg)"
   ]
  },
  {
   "cell_type": "markdown",
   "id": "4a367509",
   "metadata": {
    "slideshow": {
     "slide_type": "subslide"
    }
   },
   "source": [
    "```python\n",
    "matrix = [\n",
    "    [1, 2, 3, 4, 5],\n",
    "    [6, 7, 8, 9, 10],\n",
    "    [11, 12, 13, 14, 15]\n",
    "]\n",
    "```"
   ]
  },
  {
   "cell_type": "markdown",
   "id": "2700b27b",
   "metadata": {
    "slideshow": {
     "slide_type": "fragment"
    }
   },
   "source": [
    "- 多維度\n",
    "  - 陣列的陣列\n",
    "  - 陣列的陣列的陣列\n",
    "  - 陣列的陣列的陣列的...(下略 1000 字)"
   ]
  },
  {
   "cell_type": "markdown",
   "id": "7b9dc357",
   "metadata": {
    "slideshow": {
     "slide_type": "fragment"
    }
   },
   "source": [
    "- 所有元素 (element) 屬於同一種資料型態 (data type)\n",
    "  - `int`\n",
    "  - `float32`\n",
    "  - `float64`\n",
    "  - `object`"
   ]
  },
  {
   "cell_type": "markdown",
   "id": "3164210b",
   "metadata": {
    "ExecuteTime": {
     "end_time": "2023-01-02T04:27:54.561918Z",
     "start_time": "2023-01-02T04:27:54.544928Z"
    },
    "slideshow": {
     "slide_type": "fragment"
    }
   },
   "source": [
    "來寫個 `reshape` 吧!"
   ]
  },
  {
   "cell_type": "markdown",
   "id": "5c042390",
   "metadata": {
    "slideshow": {
     "slide_type": "subslide"
    }
   },
   "source": [
    "```python\n",
    "def reshape_(in_array: list, new_shape):\n",
    "    # 要怎麼決定 in_array 的 shape?\n",
    "    # 要怎麼檢查裡面的資料型態?\n",
    "    # 要怎麼檢查 new_shape 是合理的?\n",
    "    ...\n",
    "```"
   ]
  },
  {
   "cell_type": "markdown",
   "id": "86f78315",
   "metadata": {
    "slideshow": {
     "slide_type": "fragment"
    }
   },
   "source": [
    "```python\n",
    "matrix = [\n",
    "    [1, 2, 3, 4],\n",
    "    [5, 6, 7, 8, 9],\n",
    "    [10, 11, 12, '13']\n",
    "]\n",
    "```"
   ]
  },
  {
   "cell_type": "markdown",
   "id": "483df886",
   "metadata": {
    "slideshow": {
     "slide_type": "fragment"
    }
   },
   "source": [
    "- invalid 2D array\n",
    "   - invalid data type\n",
    "   - invalid shape"
   ]
  },
  {
   "cell_type": "markdown",
   "id": "dec7ca61",
   "metadata": {
    "slideshow": {
     "slide_type": "fragment"
    }
   },
   "source": [
    "我賭你不敢 😜"
   ]
  },
  {
   "cell_type": "markdown",
   "id": "0e581f13",
   "metadata": {
    "slideshow": {
     "slide_type": "subslide"
    }
   },
   "source": [
    "![better-way](images/better_way.jpg)"
   ]
  },
  {
   "cell_type": "code",
   "execution_count": 1,
   "id": "32fcff90",
   "metadata": {
    "ExecuteTime": {
     "end_time": "2023-01-09T01:58:54.553090Z",
     "start_time": "2023-01-09T01:58:54.393613Z"
    },
    "slideshow": {
     "slide_type": "subslide"
    }
   },
   "outputs": [
    {
     "data": {
      "text/plain": [
       "array([[ 0,  1,  2,  3],\n",
       "       [ 4,  5,  6,  7],\n",
       "       [ 8,  9, 10, 11],\n",
       "       [12, 13, 14, 15]], dtype=int8)"
      ]
     },
     "execution_count": 1,
     "metadata": {},
     "output_type": "execute_result"
    }
   ],
   "source": [
    "import numpy as np\n",
    "\n",
    "array = np.arange(16, dtype=np.int8).reshape(4, 4).copy()\n",
    "array"
   ]
  },
  {
   "cell_type": "code",
   "execution_count": 2,
   "id": "37b97b41",
   "metadata": {
    "ExecuteTime": {
     "end_time": "2023-01-09T01:58:54.560447Z",
     "start_time": "2023-01-09T01:58:54.555864Z"
    },
    "slideshow": {
     "slide_type": "fragment"
    }
   },
   "outputs": [
    {
     "data": {
      "text/plain": [
       "(4, 4)"
      ]
     },
     "execution_count": 2,
     "metadata": {},
     "output_type": "execute_result"
    }
   ],
   "source": [
    "array.shape"
   ]
  },
  {
   "cell_type": "code",
   "execution_count": 3,
   "id": "16d00a6c",
   "metadata": {
    "ExecuteTime": {
     "end_time": "2023-01-09T01:58:54.565732Z",
     "start_time": "2023-01-09T01:58:54.562595Z"
    },
    "slideshow": {
     "slide_type": "fragment"
    }
   },
   "outputs": [
    {
     "data": {
      "text/plain": [
       "(4, 1)"
      ]
     },
     "execution_count": 3,
     "metadata": {},
     "output_type": "execute_result"
    }
   ],
   "source": [
    "array.strides"
   ]
  },
  {
   "cell_type": "code",
   "execution_count": 4,
   "id": "d872a268",
   "metadata": {
    "ExecuteTime": {
     "end_time": "2023-01-09T01:58:54.572965Z",
     "start_time": "2023-01-09T01:58:54.569105Z"
    },
    "slideshow": {
     "slide_type": "fragment"
    }
   },
   "outputs": [
    {
     "data": {
      "text/plain": [
       "<memory at 0x10cab12f0>"
      ]
     },
     "execution_count": 4,
     "metadata": {},
     "output_type": "execute_result"
    }
   ],
   "source": [
    "array.data"
   ]
  },
  {
   "cell_type": "code",
   "execution_count": 5,
   "id": "fa668769",
   "metadata": {
    "ExecuteTime": {
     "end_time": "2023-01-09T01:58:54.578159Z",
     "start_time": "2023-01-09T01:58:54.575037Z"
    },
    "slideshow": {
     "slide_type": "fragment"
    }
   },
   "outputs": [
    {
     "data": {
      "text/plain": [
       "True"
      ]
     },
     "execution_count": 5,
     "metadata": {},
     "output_type": "execute_result"
    }
   ],
   "source": [
    "array.base is None"
   ]
  },
  {
   "cell_type": "markdown",
   "id": "5ec1f511",
   "metadata": {
    "slideshow": {
     "slide_type": "subslide"
    }
   },
   "source": [
    "![array-2d](images/array_2d.drawio.svg)"
   ]
  },
  {
   "cell_type": "markdown",
   "id": "e8290ce6",
   "metadata": {
    "slideshow": {
     "slide_type": "subslide"
    }
   },
   "source": [
    "![array-2d-flatten](images/array_2d_flatten.drawio.svg)"
   ]
  },
  {
   "cell_type": "code",
   "execution_count": 6,
   "id": "f325dbee",
   "metadata": {
    "ExecuteTime": {
     "end_time": "2023-01-09T01:58:54.583230Z",
     "start_time": "2023-01-09T01:58:54.580148Z"
    },
    "slideshow": {
     "slide_type": "subslide"
    }
   },
   "outputs": [
    {
     "data": {
      "text/plain": [
       "array([ 0,  1,  2,  3,  4,  5,  6,  7,  8,  9, 10, 11, 12, 13, 14, 15],\n",
       "      dtype=int8)"
      ]
     },
     "execution_count": 6,
     "metadata": {},
     "output_type": "execute_result"
    }
   ],
   "source": [
    "arr_flatten = array.ravel()\n",
    "arr_flatten"
   ]
  },
  {
   "cell_type": "markdown",
   "id": "6af851b1",
   "metadata": {
    "ExecuteTime": {
     "end_time": "2023-01-04T15:05:04.308168Z",
     "start_time": "2023-01-04T15:05:04.304581Z"
    },
    "slideshow": {
     "slide_type": "fragment"
    }
   },
   "source": [
    "```python\n",
    "# Dark Magic \n",
    "np.lib.stride_tricks\n",
    "```"
   ]
  },
  {
   "cell_type": "markdown",
   "id": "61a604d3",
   "metadata": {
    "slideshow": {
     "slide_type": "fragment"
    }
   },
   "source": [
    "那我們先來看看用這個 Dark Magic 可以怎麼做一個自己的 `reshape`"
   ]
  },
  {
   "cell_type": "code",
   "execution_count": 7,
   "id": "3e93c177",
   "metadata": {
    "ExecuteTime": {
     "end_time": "2023-01-09T01:58:54.588022Z",
     "start_time": "2023-01-09T01:58:54.585093Z"
    },
    "slideshow": {
     "slide_type": "subslide"
    }
   },
   "outputs": [],
   "source": [
    "def flat_list(ll, acc=None):\n",
    "    if acc is None:\n",
    "        acc = []\n",
    "    for l in ll:\n",
    "        if not isinstance(l, list):\n",
    "            acc.append(l)\n",
    "        else:\n",
    "            acc = flat_list(l, acc)\n",
    "    return acc"
   ]
  },
  {
   "cell_type": "code",
   "execution_count": 8,
   "id": "4fd1fbb3",
   "metadata": {
    "ExecuteTime": {
     "end_time": "2023-01-09T01:58:54.593773Z",
     "start_time": "2023-01-09T01:58:54.589934Z"
    },
    "slideshow": {
     "slide_type": "subslide"
    }
   },
   "outputs": [
    {
     "data": {
      "text/plain": [
       "[1, 2, 3, 4, 5, 6]"
      ]
     },
     "execution_count": 8,
     "metadata": {},
     "output_type": "execute_result"
    }
   ],
   "source": [
    "flat_list([[1, 2, 3], [4, 5, 6]])"
   ]
  },
  {
   "cell_type": "code",
   "execution_count": 9,
   "id": "64af0ffd",
   "metadata": {
    "ExecuteTime": {
     "end_time": "2023-01-09T01:58:54.599334Z",
     "start_time": "2023-01-09T01:58:54.595733Z"
    },
    "slideshow": {
     "slide_type": "fragment"
    }
   },
   "outputs": [
    {
     "data": {
      "text/plain": [
       "[1, 2, 3, 4, 5, 6, 1, 2, 3, 4]"
      ]
     },
     "execution_count": 9,
     "metadata": {},
     "output_type": "execute_result"
    }
   ],
   "source": [
    "flat_list([[1, 2, 3], [4, 5, 6], [1, 2, [3, 4]]])"
   ]
  },
  {
   "cell_type": "code",
   "execution_count": 10,
   "id": "085e1704",
   "metadata": {
    "ExecuteTime": {
     "end_time": "2023-01-09T01:58:54.607796Z",
     "start_time": "2023-01-09T01:58:54.604395Z"
    },
    "slideshow": {
     "slide_type": "subslide"
    }
   },
   "outputs": [],
   "source": [
    "def reshape_(in_array, new_shape):\n",
    "    flat_array = flat_list(in_array)\n",
    "    new_strides = []\n",
    "    acc = 1\n",
    "    for s in new_shape[::-1]:\n",
    "        new_strides.insert(0, acc*8)\n",
    "        acc *= s\n",
    "    return np.lib.stride_tricks.as_strided(\n",
    "        flat_array,\n",
    "        shape=new_shape,\n",
    "        strides=new_strides\n",
    "    ).tolist()"
   ]
  },
  {
   "cell_type": "code",
   "execution_count": 11,
   "id": "e1c9c64d",
   "metadata": {
    "ExecuteTime": {
     "end_time": "2023-01-09T01:58:54.614562Z",
     "start_time": "2023-01-09T01:58:54.609924Z"
    },
    "slideshow": {
     "slide_type": "subslide"
    }
   },
   "outputs": [
    {
     "data": {
      "text/plain": [
       "[[1, 2, 3], [4, 5, 6], [7, 8, 9], [10, 11, 12], [13, 14, 15]]"
      ]
     },
     "execution_count": 11,
     "metadata": {},
     "output_type": "execute_result"
    }
   ],
   "source": [
    "reshape_(\n",
    "    [\n",
    "        [1, 2, 3, 4, 5],\n",
    "        [6, 7, 8, 9, 10],\n",
    "        [11, 12, 13, 14, 15]\n",
    "    ],\n",
    "    (5, 3)\n",
    ")"
   ]
  },
  {
   "cell_type": "code",
   "execution_count": 12,
   "id": "957674ae",
   "metadata": {
    "ExecuteTime": {
     "end_time": "2023-01-09T01:58:54.621715Z",
     "start_time": "2023-01-09T01:58:54.616761Z"
    },
    "slideshow": {
     "slide_type": "fragment"
    }
   },
   "outputs": [
    {
     "data": {
      "text/plain": [
       "[[[1], [2], [3]],\n",
       " [[4], [5], [6]],\n",
       " [[7], [8], [9]],\n",
       " [[10], [11], [12]],\n",
       " [[13], [14], [15]]]"
      ]
     },
     "execution_count": 12,
     "metadata": {},
     "output_type": "execute_result"
    }
   ],
   "source": [
    "reshape_(\n",
    "    [\n",
    "        [1, 2, 3, 4, 5],\n",
    "        [6, 7, 8, 9, 10],\n",
    "        [11, 12, 13, 14, 15]\n",
    "    ],\n",
    "    (5, 3, 1)\n",
    ")"
   ]
  },
  {
   "cell_type": "code",
   "execution_count": 13,
   "id": "33ede255",
   "metadata": {
    "ExecuteTime": {
     "end_time": "2023-01-09T01:58:54.628364Z",
     "start_time": "2023-01-09T01:58:54.623814Z"
    },
    "slideshow": {
     "slide_type": "subslide"
    }
   },
   "outputs": [
    {
     "data": {
      "text/plain": [
       "[[1, 2, 3],\n",
       " [4, 5, 6],\n",
       " [7, 8, 9],\n",
       " [10, 11, 12],\n",
       " [13, 14, 15],\n",
       " [2251799813685248, 4489774640, 4487782320]]"
      ]
     },
     "execution_count": 13,
     "metadata": {},
     "output_type": "execute_result"
    }
   ],
   "source": [
    "reshape_(\n",
    "    [\n",
    "        [1, 2, 3, 4, 5],\n",
    "        [6, 7, 8, 9, 10],\n",
    "        [11, 12, 13, 14, 15]\n",
    "    ],\n",
    "    (6, 3)\n",
    ")"
   ]
  },
  {
   "cell_type": "markdown",
   "id": "d6aa87a4",
   "metadata": {
    "slideshow": {
     "slide_type": "slide"
    }
   },
   "source": [
    "# NumPy is All You Need"
   ]
  },
  {
   "cell_type": "markdown",
   "id": "c4258e52-d5f5-47e2-95d7-482685490b99",
   "metadata": {
    "slideshow": {
     "slide_type": "subslide"
    }
   },
   "source": [
    "###### Nature 2020 Review Paper\n",
    "\n",
    "![numpy-nature](images/numpy-nature.webp)\n",
    "\n",
    "[source](https://www.nature.com/articles/s41586-020-2649-2)"
   ]
  },
  {
   "cell_type": "markdown",
   "id": "99e77002",
   "metadata": {
    "slideshow": {
     "slide_type": "subslide"
    }
   },
   "source": [
    "- strides, shape and tensor rank"
   ]
  },
  {
   "cell_type": "markdown",
   "id": "416ba75b",
   "metadata": {
    "slideshow": {
     "slide_type": "fragment"
    }
   },
   "source": [
    "- indexing\n",
    "    - basic indexing\n",
    "    - advanced indexing"
   ]
  },
  {
   "cell_type": "markdown",
   "id": "65b41c4f",
   "metadata": {
    "slideshow": {
     "slide_type": "fragment"
    }
   },
   "source": [
    "- broadcasting"
   ]
  },
  {
   "cell_type": "markdown",
   "id": "93b787a9",
   "metadata": {
    "slideshow": {
     "slide_type": "fragment"
    }
   },
   "source": [
    "- vectorization"
   ]
  },
  {
   "cell_type": "markdown",
   "id": "0f581a01",
   "metadata": {
    "slideshow": {
     "slide_type": "fragment"
    }
   },
   "source": [
    "[Official Doc](https://numpy.org/doc/stable/user/basics.indexing.html)"
   ]
  },
  {
   "cell_type": "markdown",
   "id": "dbf18280",
   "metadata": {
    "slideshow": {
     "slide_type": "subslide"
    }
   },
   "source": [
    "![numpy-memorize](images/numpy-memorize.jpg)"
   ]
  },
  {
   "cell_type": "markdown",
   "id": "278ceae0",
   "metadata": {
    "slideshow": {
     "slide_type": "subslide"
    }
   },
   "source": [
    "![better-way](images/better_way.jpg)"
   ]
  },
  {
   "cell_type": "markdown",
   "id": "01ceef46",
   "metadata": {
    "slideshow": {
     "slide_type": "subslide"
    }
   },
   "source": [
    "![array-2d-flatten](images/array_2d_flatten.drawio.svg)"
   ]
  },
  {
   "cell_type": "code",
   "execution_count": 14,
   "id": "3cf32e08",
   "metadata": {
    "ExecuteTime": {
     "end_time": "2023-01-09T01:58:54.634345Z",
     "start_time": "2023-01-09T01:58:54.631011Z"
    },
    "slideshow": {
     "slide_type": "subslide"
    }
   },
   "outputs": [
    {
     "name": "stdout",
     "output_type": "stream",
     "text": [
      "1 == 4 * 0 + 1 * 1: True\n",
      "6 == 4 * 1 + 1 * 2: True\n"
     ]
    }
   ],
   "source": [
    "print(\"1 == 4 * 0 + 1 * 1:\", 1 == 4*0 + 1*1)\n",
    "print(\"6 == 4 * 1 + 1 * 2:\", 6 == 4*1 + 1*2)"
   ]
  },
  {
   "cell_type": "code",
   "execution_count": 15,
   "id": "8c88dbc6",
   "metadata": {
    "ExecuteTime": {
     "end_time": "2023-01-09T01:58:54.640662Z",
     "start_time": "2023-01-09T01:58:54.636929Z"
    },
    "slideshow": {
     "slide_type": "subslide"
    }
   },
   "outputs": [
    {
     "name": "stdout",
     "output_type": "stream",
     "text": [
      "arr_flatten[1] == array[0, 1]: True\n",
      "arr_flatten[6] == array[1, 2]: True\n"
     ]
    }
   ],
   "source": [
    "print(\"arr_flatten[1] == array[0, 1]:\", arr_flatten[1] == array[0, 1])\n",
    "print(\"arr_flatten[6] == array[1, 2]:\", arr_flatten[6] == array[1, 2])"
   ]
  },
  {
   "cell_type": "code",
   "execution_count": 16,
   "id": "2ac4dae6",
   "metadata": {
    "ExecuteTime": {
     "end_time": "2023-01-09T01:58:54.646372Z",
     "start_time": "2023-01-09T01:58:54.642675Z"
    },
    "slideshow": {
     "slide_type": "fragment"
    }
   },
   "outputs": [
    {
     "data": {
      "text/plain": [
       "(4, 1)"
      ]
     },
     "execution_count": 16,
     "metadata": {},
     "output_type": "execute_result"
    }
   ],
   "source": [
    "array.strides"
   ]
  },
  {
   "cell_type": "markdown",
   "id": "45c425df",
   "metadata": {
    "slideshow": {
     "slide_type": "subslide"
    }
   },
   "source": [
    "- linear offset: the offset of an element in the flattened array\n",
    "- $\\mathbf{arr}$: a m-dims array\n",
    "    - strides: $(s_0, s_1, ..., s_m)$\n",
    "    - shape: $(d_0, d_1, ..., d_m)$\n",
    "- $e = \\mathbf{arr}[i_0, i_1, ..., i_m]$, element in $\\mathbf{arr}$\n",
    "    - with linear offset $\\text{offset}_e$\n",
    "\n",
    "Then we have:\n",
    "\n",
    "$$\n",
    "    \\text{offset}_e = \\sum\\limits_{j=0}^{m} s_j \\cdot i_j\n",
    "$$"
   ]
  },
  {
   "cell_type": "markdown",
   "id": "92f5695f",
   "metadata": {
    "slideshow": {
     "slide_type": "slide"
    }
   },
   "source": [
    "# Applications"
   ]
  },
  {
   "cell_type": "markdown",
   "id": "41fa29cd",
   "metadata": {
    "slideshow": {
     "slide_type": "subslide"
    }
   },
   "source": [
    "## Shared Memory View"
   ]
  },
  {
   "cell_type": "code",
   "execution_count": 17,
   "id": "1deaf068",
   "metadata": {
    "ExecuteTime": {
     "end_time": "2023-01-09T01:58:54.652484Z",
     "start_time": "2023-01-09T01:58:54.648334Z"
    },
    "slideshow": {
     "slide_type": "subslide"
    }
   },
   "outputs": [
    {
     "data": {
      "text/plain": [
       "array([[[ 0,  1,  2],\n",
       "        [ 3,  4,  5],\n",
       "        [ 6,  7,  8]],\n",
       "\n",
       "       [[ 9, 10, 11],\n",
       "        [12, 13, 14],\n",
       "        [15, 16, 17]],\n",
       "\n",
       "       [[18, 19, 20],\n",
       "        [21, 22, 23],\n",
       "        [24, 25, 26]]])"
      ]
     },
     "execution_count": 17,
     "metadata": {},
     "output_type": "execute_result"
    }
   ],
   "source": [
    "cube = np.arange(3*3*3).reshape((3, 3, 3)).copy()\n",
    "cube"
   ]
  },
  {
   "cell_type": "markdown",
   "id": "b0c1fc60",
   "metadata": {
    "slideshow": {
     "slide_type": "fragment"
    }
   },
   "source": [
    "![array-3d](images/array-3d.drawio.svg)"
   ]
  },
  {
   "cell_type": "markdown",
   "id": "d1bd029b",
   "metadata": {
    "slideshow": {
     "slide_type": "subslide"
    }
   },
   "source": [
    "![array-3d-strided](images/array-3d-strided.drawio.svg)"
   ]
  },
  {
   "cell_type": "code",
   "execution_count": 18,
   "id": "5977aa17",
   "metadata": {
    "ExecuteTime": {
     "end_time": "2023-01-09T01:58:54.657343Z",
     "start_time": "2023-01-09T01:58:54.653861Z"
    },
    "slideshow": {
     "slide_type": "fragment"
    }
   },
   "outputs": [
    {
     "data": {
      "text/plain": [
       "array([[[ 0,  2],\n",
       "        [ 6,  8]],\n",
       "\n",
       "       [[18, 20],\n",
       "        [24, 26]]])"
      ]
     },
     "execution_count": 18,
     "metadata": {},
     "output_type": "execute_result"
    }
   ],
   "source": [
    "strided_cube = cube[::2, ::2, ::2]\n",
    "strided_cube"
   ]
  },
  {
   "cell_type": "markdown",
   "id": "85312e99",
   "metadata": {
    "slideshow": {
     "slide_type": "subslide"
    }
   },
   "source": [
    "- linear offset: the offset of an element in the flattened array\n",
    "- $\\mathbf{arr}$: a m-dims array\n",
    "    - strides: $(s_0, s_1, ..., s_m)$\n",
    "    - shape: $(d_0, d_1, ..., d_m)$\n",
    "- $e = \\mathbf{arr}[i_0, i_1, ..., i_m]$, element in $\\mathbf{arr}$\n",
    "    - with linear offset $\\text{offset}_e$\n",
    "\n",
    "Then we have:\n",
    "\n",
    "$$\n",
    "    \\text{offset}_e = \\sum\\limits_{j=0}^{m} s_j \\cdot i_j\n",
    "$$"
   ]
  },
  {
   "cell_type": "code",
   "execution_count": 19,
   "id": "a9defa15",
   "metadata": {
    "ExecuteTime": {
     "end_time": "2023-01-09T01:58:54.662400Z",
     "start_time": "2023-01-09T01:58:54.659361Z"
    },
    "slideshow": {
     "slide_type": "subslide"
    }
   },
   "outputs": [
    {
     "data": {
      "text/plain": [
       "array([ 0,  1,  2,  3,  4,  5,  6,  7,  8,  9, 10, 11, 12, 13, 14, 15, 16,\n",
       "       17, 18, 19, 20, 21, 22, 23, 24, 25, 26])"
      ]
     },
     "execution_count": 19,
     "metadata": {},
     "output_type": "execute_result"
    }
   ],
   "source": [
    "cube.ravel()"
   ]
  },
  {
   "cell_type": "code",
   "execution_count": 20,
   "id": "b64c0176",
   "metadata": {
    "ExecuteTime": {
     "end_time": "2023-01-09T01:58:54.667493Z",
     "start_time": "2023-01-09T01:58:54.664079Z"
    },
    "slideshow": {
     "slide_type": "fragment"
    }
   },
   "outputs": [
    {
     "data": {
      "text/plain": [
       "(3, 3, 3)"
      ]
     },
     "execution_count": 20,
     "metadata": {},
     "output_type": "execute_result"
    }
   ],
   "source": [
    "cube.shape"
   ]
  },
  {
   "cell_type": "code",
   "execution_count": 21,
   "id": "317c3b37",
   "metadata": {
    "ExecuteTime": {
     "end_time": "2023-01-09T01:58:54.672845Z",
     "start_time": "2023-01-09T01:58:54.669322Z"
    },
    "slideshow": {
     "slide_type": "fragment"
    }
   },
   "outputs": [
    {
     "data": {
      "text/plain": [
       "(72, 24, 8)"
      ]
     },
     "execution_count": 21,
     "metadata": {},
     "output_type": "execute_result"
    }
   ],
   "source": [
    "cube.strides # number of bytes"
   ]
  },
  {
   "cell_type": "markdown",
   "id": "99300690",
   "metadata": {
    "slideshow": {
     "slide_type": "fragment"
    }
   },
   "source": [
    "- $\\mathbf{cube}$: a 3-dims array\n",
    "    - strides: $(72, 24, 8)$\n",
    "    - shape: $(3, 3, 3)$\n",
    "- $e = \\mathbf{cube}[i_0, i_1, i_2]$, element in $\\mathbf{cube}$\n",
    "    - with linear offset $\\text{offset}_e$\n",
    "\n",
    "Then we have:\n",
    "\n",
    "$$\n",
    "    \\text{offset}_e = 72 \\cdot i_0 + 24 \\cdot i_1 + 8 \\cdot i_2\n",
    "$$"
   ]
  },
  {
   "cell_type": "code",
   "execution_count": 22,
   "id": "5bab39bb",
   "metadata": {
    "ExecuteTime": {
     "end_time": "2023-01-09T01:58:54.679159Z",
     "start_time": "2023-01-09T01:58:54.675219Z"
    },
    "slideshow": {
     "slide_type": "subslide"
    }
   },
   "outputs": [
    {
     "data": {
      "text/plain": [
       "array([ 0,  2,  6,  8, 18, 20, 24, 26])"
      ]
     },
     "execution_count": 22,
     "metadata": {},
     "output_type": "execute_result"
    }
   ],
   "source": [
    "strided_cube.ravel()"
   ]
  },
  {
   "cell_type": "code",
   "execution_count": 23,
   "id": "5b3cddce",
   "metadata": {
    "ExecuteTime": {
     "end_time": "2023-01-09T01:58:54.685155Z",
     "start_time": "2023-01-09T01:58:54.681094Z"
    },
    "slideshow": {
     "slide_type": "fragment"
    }
   },
   "outputs": [
    {
     "data": {
      "text/plain": [
       "(2, 2, 2)"
      ]
     },
     "execution_count": 23,
     "metadata": {},
     "output_type": "execute_result"
    }
   ],
   "source": [
    "strided_cube.shape"
   ]
  },
  {
   "cell_type": "code",
   "execution_count": 24,
   "id": "0a1a34df",
   "metadata": {
    "ExecuteTime": {
     "end_time": "2023-01-09T01:58:54.691390Z",
     "start_time": "2023-01-09T01:58:54.687500Z"
    },
    "slideshow": {
     "slide_type": "fragment"
    }
   },
   "outputs": [
    {
     "data": {
      "text/plain": [
       "(144, 48, 16)"
      ]
     },
     "execution_count": 24,
     "metadata": {},
     "output_type": "execute_result"
    }
   ],
   "source": [
    "strided_cube.strides"
   ]
  },
  {
   "cell_type": "markdown",
   "id": "d3e08dfe",
   "metadata": {
    "slideshow": {
     "slide_type": "subslide"
    }
   },
   "source": [
    "- $\\mathbf{strided\\_cube}$: a 3-dims array\n",
    "    - strides: $(144, 48, 16)$\n",
    "    - shape: $(2, 2, 2)$\n",
    "- $\\mathbf{strided\\_cube}$$[i_0, i_1, i_2]$\n",
    "    - with linear offset $\\text{offset}_e$\n",
    "\n",
    "Then we have:\n",
    "\n",
    "$$\n",
    "    \\begin{align*}\n",
    "    \\text{offset}_e &= 144 \\cdot i_0 + 48 \\cdot i_1 + 16 \\cdot i_2 \\\\\n",
    "                    &= 72 \\cdot (2 \\cdot i_0) + 24 \\cdot (2 \\cdot i_1) + 8 \\cdot (2 \\cdot i_0)\n",
    "    \\end{align*}\n",
    "$$"
   ]
  },
  {
   "cell_type": "markdown",
   "id": "bb2d6401",
   "metadata": {
    "slideshow": {
     "slide_type": "fragment"
    }
   },
   "source": [
    "![array-3d-strided](images/array-3d-strided.drawio.svg)"
   ]
  },
  {
   "cell_type": "code",
   "execution_count": 25,
   "id": "735793be",
   "metadata": {
    "ExecuteTime": {
     "end_time": "2023-01-09T01:58:54.696796Z",
     "start_time": "2023-01-09T01:58:54.693260Z"
    },
    "slideshow": {
     "slide_type": "subslide"
    }
   },
   "outputs": [
    {
     "data": {
      "text/plain": [
       "(<memory at 0x10cdbf1f0>, memoryview)"
      ]
     },
     "execution_count": 25,
     "metadata": {},
     "output_type": "execute_result"
    }
   ],
   "source": [
    "strided_cube.data, type(strided_cube.data)"
   ]
  },
  {
   "cell_type": "markdown",
   "id": "59051780",
   "metadata": {
    "slideshow": {
     "slide_type": "fragment"
    }
   },
   "source": [
    "[`memoryview` documentation](https://docs.python.org/3/library/stdtypes.html#memoryview)"
   ]
  },
  {
   "cell_type": "code",
   "execution_count": 26,
   "id": "6e7dc2d8",
   "metadata": {
    "ExecuteTime": {
     "end_time": "2023-01-09T01:58:54.701520Z",
     "start_time": "2023-01-09T01:58:54.698452Z"
    },
    "slideshow": {
     "slide_type": "fragment"
    }
   },
   "outputs": [
    {
     "name": "stdout",
     "output_type": "stream",
     "text": [
      "0 2 6 8 18 20 24 26 "
     ]
    }
   ],
   "source": [
    "import struct\n",
    "\n",
    "data_bytes = strided_cube.data.tobytes()\n",
    "for i in range(8):\n",
    "    elem = struct.unpack(\n",
    "        'q',\n",
    "        data_bytes[i*strided_cube.itemsize:(i+1)*strided_cube.itemsize],\n",
    "    )[0]\n",
    "    print(elem, end=\" \")"
   ]
  },
  {
   "cell_type": "code",
   "execution_count": 27,
   "id": "ef8fcd15",
   "metadata": {
    "ExecuteTime": {
     "end_time": "2023-01-09T01:58:54.706761Z",
     "start_time": "2023-01-09T01:58:54.703400Z"
    },
    "slideshow": {
     "slide_type": "subslide"
    }
   },
   "outputs": [
    {
     "data": {
      "text/plain": [
       "array([[[ 0,  2],\n",
       "        [ 6,  8]],\n",
       "\n",
       "       [[18, 20],\n",
       "        [24, 26]]])"
      ]
     },
     "execution_count": 27,
     "metadata": {},
     "output_type": "execute_result"
    }
   ],
   "source": [
    "np.lib.stride_tricks.as_strided(\n",
    "    cube,\n",
    "    strides=(144, 48, 16),\n",
    "    shape=(2, 2, 2)\n",
    ")"
   ]
  },
  {
   "cell_type": "code",
   "execution_count": 28,
   "id": "a8fb98e4",
   "metadata": {
    "ExecuteTime": {
     "end_time": "2023-01-09T01:58:54.717507Z",
     "start_time": "2023-01-09T01:58:54.714075Z"
    },
    "slideshow": {
     "slide_type": "fragment"
    }
   },
   "outputs": [
    {
     "data": {
      "text/plain": [
       "True"
      ]
     },
     "execution_count": 28,
     "metadata": {},
     "output_type": "execute_result"
    }
   ],
   "source": [
    "strided_cube.base is cube"
   ]
  },
  {
   "cell_type": "markdown",
   "id": "0b71c6c2",
   "metadata": {
    "slideshow": {
     "slide_type": "subslide"
    }
   },
   "source": [
    "![array-3d-not-strided](images/array-3d-not-strided.drawio.svg)"
   ]
  },
  {
   "cell_type": "code",
   "execution_count": 29,
   "id": "3950d09a",
   "metadata": {
    "ExecuteTime": {
     "end_time": "2023-01-09T01:58:54.723717Z",
     "start_time": "2023-01-09T01:58:54.719467Z"
    },
    "slideshow": {
     "slide_type": "fragment"
    }
   },
   "outputs": [
    {
     "data": {
      "text/plain": [
       "array([[[ 0,  2],\n",
       "        [ 7,  8]],\n",
       "\n",
       "       [[18, 19],\n",
       "        [24, 26]]])"
      ]
     },
     "execution_count": 29,
     "metadata": {},
     "output_type": "execute_result"
    }
   ],
   "source": [
    "# advanced indexing\n",
    "random_cube = cube[\n",
    "    [0, 0, 0, 0, 2, 2, 2, 2],\n",
    "    [0, 0, 2, 2, 0, 0, 2, 2],\n",
    "    [0, 2, 1, 2, 0, 1, 0, 2]\n",
    "]\n",
    "random_cube.reshape((2, 2, 2))"
   ]
  },
  {
   "cell_type": "code",
   "execution_count": 30,
   "id": "f3290829",
   "metadata": {
    "ExecuteTime": {
     "end_time": "2023-01-09T01:58:54.728506Z",
     "start_time": "2023-01-09T01:58:54.725284Z"
    },
    "slideshow": {
     "slide_type": "subslide"
    }
   },
   "outputs": [
    {
     "data": {
      "text/plain": [
       "True"
      ]
     },
     "execution_count": 30,
     "metadata": {},
     "output_type": "execute_result"
    }
   ],
   "source": [
    "random_cube.base is None"
   ]
  },
  {
   "cell_type": "code",
   "execution_count": 31,
   "id": "27350037",
   "metadata": {
    "ExecuteTime": {
     "end_time": "2023-01-09T01:58:54.733269Z",
     "start_time": "2023-01-09T01:58:54.730090Z"
    },
    "slideshow": {
     "slide_type": "subslide"
    }
   },
   "outputs": [
    {
     "data": {
      "text/plain": [
       "True"
      ]
     },
     "execution_count": 31,
     "metadata": {},
     "output_type": "execute_result"
    }
   ],
   "source": [
    "cube.ravel().base is cube"
   ]
  },
  {
   "cell_type": "code",
   "execution_count": 32,
   "id": "7df446c5",
   "metadata": {
    "ExecuteTime": {
     "end_time": "2023-01-09T01:58:54.738477Z",
     "start_time": "2023-01-09T01:58:54.735061Z"
    },
    "slideshow": {
     "slide_type": "fragment"
    }
   },
   "outputs": [
    {
     "data": {
      "text/plain": [
       "False"
      ]
     },
     "execution_count": 32,
     "metadata": {},
     "output_type": "execute_result"
    }
   ],
   "source": [
    "cube.flatten().base is cube"
   ]
  },
  {
   "cell_type": "markdown",
   "id": "5fbd0296",
   "metadata": {
    "slideshow": {
     "slide_type": "subslide"
    }
   },
   "source": [
    "![ok-then-what](images/okey_then_what.jpg)"
   ]
  },
  {
   "cell_type": "markdown",
   "id": "47eb63be",
   "metadata": {
    "slideshow": {
     "slide_type": "subslide"
    }
   },
   "source": [
    "### Time Series: Sliding Window with Shared-Memory View"
   ]
  },
  {
   "cell_type": "code",
   "execution_count": 33,
   "id": "f46ccb11",
   "metadata": {
    "ExecuteTime": {
     "end_time": "2023-01-09T01:58:54.744573Z",
     "start_time": "2023-01-09T01:58:54.740712Z"
    },
    "slideshow": {
     "slide_type": "fragment"
    }
   },
   "outputs": [
    {
     "data": {
      "text/plain": [
       "array([ 0,  1,  2,  3,  4,  5,  6,  7,  8,  9, 10, 11, 12, 13, 14, 15, 16,\n",
       "       17, 18, 19], dtype=int8)"
      ]
     },
     "execution_count": 33,
     "metadata": {},
     "output_type": "execute_result"
    }
   ],
   "source": [
    "data = np.arange(20, dtype=np.int8)\n",
    "data"
   ]
  },
  {
   "cell_type": "code",
   "execution_count": 34,
   "id": "172a3bc6",
   "metadata": {
    "ExecuteTime": {
     "end_time": "2023-01-09T01:58:54.752096Z",
     "start_time": "2023-01-09T01:58:54.747116Z"
    },
    "slideshow": {
     "slide_type": "subslide"
    }
   },
   "outputs": [
    {
     "data": {
      "text/plain": [
       "array([[ 0,  1,  2,  3,  4],\n",
       "       [ 1,  2,  3,  4,  5],\n",
       "       [ 2,  3,  4,  5,  6],\n",
       "       [ 3,  4,  5,  6,  7],\n",
       "       [ 4,  5,  6,  7,  8],\n",
       "       [ 5,  6,  7,  8,  9],\n",
       "       [ 6,  7,  8,  9, 10],\n",
       "       [ 7,  8,  9, 10, 11],\n",
       "       [ 8,  9, 10, 11, 12],\n",
       "       [ 9, 10, 11, 12, 13],\n",
       "       [10, 11, 12, 13, 14],\n",
       "       [11, 12, 13, 14, 15],\n",
       "       [12, 13, 14, 15, 16],\n",
       "       [13, 14, 15, 16, 17],\n",
       "       [14, 15, 16, 17, 18],\n",
       "       [15, 16, 17, 18, 19]], dtype=int8)"
      ]
     },
     "execution_count": 34,
     "metadata": {},
     "output_type": "execute_result"
    }
   ],
   "source": [
    "windows_ = np.empty_like(data, shape=(16, 5))\n",
    "for i in range(16):\n",
    "    windows_[i, :] = data[i:(i+5)]\n",
    "windows_"
   ]
  },
  {
   "cell_type": "markdown",
   "id": "ab6fbced",
   "metadata": {
    "slideshow": {
     "slide_type": "subslide"
    }
   },
   "source": [
    "![better-way](images/better_way.jpg)"
   ]
  },
  {
   "cell_type": "code",
   "execution_count": 35,
   "id": "a54091d9",
   "metadata": {
    "ExecuteTime": {
     "end_time": "2023-01-09T01:58:54.756624Z",
     "start_time": "2023-01-09T01:58:54.753910Z"
    },
    "slideshow": {
     "slide_type": "subslide"
    }
   },
   "outputs": [],
   "source": [
    "windows = np.lib.stride_tricks.as_strided(\n",
    "    data,\n",
    "    shape=(16, 5),\n",
    "    strides=(1, 1)\n",
    ")"
   ]
  },
  {
   "cell_type": "code",
   "execution_count": 36,
   "id": "516c979c",
   "metadata": {
    "ExecuteTime": {
     "end_time": "2023-01-09T01:58:54.763057Z",
     "start_time": "2023-01-09T01:58:54.758533Z"
    },
    "slideshow": {
     "slide_type": "fragment"
    }
   },
   "outputs": [
    {
     "data": {
      "text/plain": [
       "array([[ 0,  1,  2,  3,  4],\n",
       "       [ 1,  2,  3,  4,  5],\n",
       "       [ 2,  3,  4,  5,  6],\n",
       "       [ 3,  4,  5,  6,  7],\n",
       "       [ 4,  5,  6,  7,  8],\n",
       "       [ 5,  6,  7,  8,  9],\n",
       "       [ 6,  7,  8,  9, 10],\n",
       "       [ 7,  8,  9, 10, 11],\n",
       "       [ 8,  9, 10, 11, 12],\n",
       "       [ 9, 10, 11, 12, 13],\n",
       "       [10, 11, 12, 13, 14],\n",
       "       [11, 12, 13, 14, 15],\n",
       "       [12, 13, 14, 15, 16],\n",
       "       [13, 14, 15, 16, 17],\n",
       "       [14, 15, 16, 17, 18],\n",
       "       [15, 16, 17, 18, 19]], dtype=int8)"
      ]
     },
     "execution_count": 36,
     "metadata": {},
     "output_type": "execute_result"
    }
   ],
   "source": [
    "windows"
   ]
  },
  {
   "cell_type": "code",
   "execution_count": 37,
   "id": "bcb8c8fe",
   "metadata": {
    "ExecuteTime": {
     "end_time": "2023-01-09T01:58:54.767754Z",
     "start_time": "2023-01-09T01:58:54.765085Z"
    },
    "slideshow": {
     "slide_type": "subslide"
    }
   },
   "outputs": [],
   "source": [
    "X = windows[:, :4]\n",
    "Y = windows[:, 4]"
   ]
  },
  {
   "cell_type": "code",
   "execution_count": 38,
   "id": "95f43fcd",
   "metadata": {
    "ExecuteTime": {
     "end_time": "2023-01-09T01:58:54.776021Z",
     "start_time": "2023-01-09T01:58:54.769959Z"
    },
    "slideshow": {
     "slide_type": "fragment"
    }
   },
   "outputs": [
    {
     "data": {
      "text/plain": [
       "array([[ 0,  1,  2,  3],\n",
       "       [ 1,  2,  3,  4],\n",
       "       [ 2,  3,  4,  5],\n",
       "       [ 3,  4,  5,  6],\n",
       "       [ 4,  5,  6,  7],\n",
       "       [ 5,  6,  7,  8],\n",
       "       [ 6,  7,  8,  9],\n",
       "       [ 7,  8,  9, 10],\n",
       "       [ 8,  9, 10, 11],\n",
       "       [ 9, 10, 11, 12],\n",
       "       [10, 11, 12, 13],\n",
       "       [11, 12, 13, 14],\n",
       "       [12, 13, 14, 15],\n",
       "       [13, 14, 15, 16],\n",
       "       [14, 15, 16, 17],\n",
       "       [15, 16, 17, 18]], dtype=int8)"
      ]
     },
     "execution_count": 38,
     "metadata": {},
     "output_type": "execute_result"
    }
   ],
   "source": [
    "X"
   ]
  },
  {
   "cell_type": "code",
   "execution_count": 39,
   "id": "9920197b",
   "metadata": {
    "ExecuteTime": {
     "end_time": "2023-01-09T01:58:54.781350Z",
     "start_time": "2023-01-09T01:58:54.777835Z"
    },
    "slideshow": {
     "slide_type": "subslide"
    }
   },
   "outputs": [
    {
     "data": {
      "text/plain": [
       "array([ 4,  5,  6,  7,  8,  9, 10, 11, 12, 13, 14, 15, 16, 17, 18, 19],\n",
       "      dtype=int8)"
      ]
     },
     "execution_count": 39,
     "metadata": {},
     "output_type": "execute_result"
    }
   ],
   "source": [
    "Y"
   ]
  },
  {
   "cell_type": "code",
   "execution_count": 40,
   "id": "46eaf70b",
   "metadata": {
    "ExecuteTime": {
     "end_time": "2023-01-09T01:58:54.786935Z",
     "start_time": "2023-01-09T01:58:54.782736Z"
    },
    "slideshow": {
     "slide_type": "subslide"
    }
   },
   "outputs": [
    {
     "data": {
      "text/plain": [
       "(True, True)"
      ]
     },
     "execution_count": 40,
     "metadata": {},
     "output_type": "execute_result"
    }
   ],
   "source": [
    "X.base is windows, Y.base is windows"
   ]
  },
  {
   "cell_type": "code",
   "execution_count": 41,
   "id": "949ef15b",
   "metadata": {
    "ExecuteTime": {
     "end_time": "2023-01-09T01:58:54.791171Z",
     "start_time": "2023-01-09T01:58:54.788475Z"
    },
    "slideshow": {
     "slide_type": "subslide"
    }
   },
   "outputs": [],
   "source": [
    "X_ = windows[:, [0, 1, 2, 3]] # X = windows[:, :4]"
   ]
  },
  {
   "cell_type": "code",
   "execution_count": 42,
   "id": "629f895b",
   "metadata": {
    "ExecuteTime": {
     "end_time": "2023-01-09T01:58:54.796963Z",
     "start_time": "2023-01-09T01:58:54.793150Z"
    },
    "slideshow": {
     "slide_type": "fragment"
    }
   },
   "outputs": [
    {
     "data": {
      "text/plain": [
       "False"
      ]
     },
     "execution_count": 42,
     "metadata": {},
     "output_type": "execute_result"
    }
   ],
   "source": [
    "X_.base is windows"
   ]
  },
  {
   "cell_type": "markdown",
   "id": "e45c9111",
   "metadata": {
    "slideshow": {
     "slide_type": "fragment"
    }
   },
   "source": [
    "basic indexing v.s advanced indexing"
   ]
  },
  {
   "cell_type": "markdown",
   "id": "253fd7a3",
   "metadata": {
    "slideshow": {
     "slide_type": "subslide"
    }
   },
   "source": [
    "## Nested Loop and Vectorization (Broadcasting)"
   ]
  },
  {
   "cell_type": "markdown",
   "id": "2f588418",
   "metadata": {
    "slideshow": {
     "slide_type": "fragment"
    }
   },
   "source": [
    "- given an array `a`, which of shape `(20, 5)`\n",
    "- given an array `b`, which of shape `(30, 5)`\n",
    "- given an array `c`, which of shape `(50, 1)`\n",
    "\n",
    "create an array `out` of shape `(20, 30, 50)`, where `out[i, j, k]` is given as following\n",
    "\n",
    "```python\n",
    "out[i, j, k] = sum([c[k] if a_ > b_ else 0.0 for a_, b_ in zip(a[i], b[j])])\n",
    "```"
   ]
  },
  {
   "cell_type": "code",
   "execution_count": 43,
   "id": "97cd5b85",
   "metadata": {
    "ExecuteTime": {
     "end_time": "2023-01-09T01:58:54.802052Z",
     "start_time": "2023-01-09T01:58:54.799009Z"
    },
    "slideshow": {
     "slide_type": "fragment"
    }
   },
   "outputs": [],
   "source": [
    "Na, Nb, Nc = 20, 30, 50\n",
    "a = np.random.rand(Na, 5)\n",
    "b = np.random.rand(Nb, 5)\n",
    "c = np.random.rand(Nc, 1)"
   ]
  },
  {
   "cell_type": "code",
   "execution_count": 44,
   "id": "29d124f5",
   "metadata": {
    "ExecuteTime": {
     "end_time": "2023-01-09T01:58:54.963197Z",
     "start_time": "2023-01-09T01:58:54.804307Z"
    },
    "slideshow": {
     "slide_type": "subslide"
    }
   },
   "outputs": [
    {
     "name": "stdout",
     "output_type": "stream",
     "text": [
      "CPU times: user 157 ms, sys: 25.7 ms, total: 182 ms\n",
      "Wall time: 156 ms\n"
     ]
    }
   ],
   "source": [
    "%%time\n",
    "out = np.zeros((Na, Nb, Nc), dtype=float)\n",
    "for i in range(Na):\n",
    "    for j in range(Nb):\n",
    "        for k in range(Nc):\n",
    "            out[i, j, k] = ((a[i] > b[j]) * c[k]).sum()"
   ]
  },
  {
   "cell_type": "markdown",
   "id": "ce730f6d",
   "metadata": {
    "slideshow": {
     "slide_type": "subslide"
    }
   },
   "source": [
    "![better-way](images/better_way.jpg)"
   ]
  },
  {
   "cell_type": "code",
   "execution_count": 45,
   "id": "310076d7",
   "metadata": {
    "ExecuteTime": {
     "end_time": "2023-01-09T01:58:54.970069Z",
     "start_time": "2023-01-09T01:58:54.964792Z"
    },
    "slideshow": {
     "slide_type": "subslide"
    }
   },
   "outputs": [
    {
     "name": "stdout",
     "output_type": "stream",
     "text": [
      "CPU times: user 1.78 ms, sys: 1.18 ms, total: 2.96 ms\n",
      "Wall time: 1.65 ms\n"
     ]
    },
    {
     "data": {
      "text/plain": [
       "(20, 30, 50)"
      ]
     },
     "execution_count": 45,
     "metadata": {},
     "output_type": "execute_result"
    }
   ],
   "source": [
    "%%time\n",
    "out_ = (\n",
    "    (\n",
    "        a[:, np.newaxis, np.newaxis, :] > b[np.newaxis, :, np.newaxis, :]\n",
    "    ) * c[np.newaxis, np.newaxis, :, :]\n",
    ").sum(axis=-1)\n",
    "out_.shape"
   ]
  },
  {
   "cell_type": "code",
   "execution_count": 46,
   "id": "182de600",
   "metadata": {
    "ExecuteTime": {
     "end_time": "2023-01-09T01:58:54.975419Z",
     "start_time": "2023-01-09T01:58:54.971720Z"
    },
    "slideshow": {
     "slide_type": "fragment"
    }
   },
   "outputs": [
    {
     "data": {
      "text/plain": [
       "True"
      ]
     },
     "execution_count": 46,
     "metadata": {},
     "output_type": "execute_result"
    }
   ],
   "source": [
    "np.allclose(\n",
    "    out,\n",
    "    out_\n",
    ")"
   ]
  },
  {
   "cell_type": "code",
   "execution_count": 47,
   "id": "e7163977",
   "metadata": {
    "ExecuteTime": {
     "end_time": "2023-01-09T01:58:54.979601Z",
     "start_time": "2023-01-09T01:58:54.977133Z"
    },
    "slideshow": {
     "slide_type": "subslide"
    }
   },
   "outputs": [
    {
     "name": "stdout",
     "output_type": "stream",
     "text": [
      "(20, 5) (20, 1, 1, 5)\n"
     ]
    }
   ],
   "source": [
    "print(a.shape, a[:, np.newaxis, np.newaxis, :].shape)"
   ]
  },
  {
   "cell_type": "code",
   "execution_count": 48,
   "id": "299b1dde",
   "metadata": {
    "ExecuteTime": {
     "end_time": "2023-01-09T01:58:54.986197Z",
     "start_time": "2023-01-09T01:58:54.981487Z"
    },
    "slideshow": {
     "slide_type": "fragment"
    }
   },
   "outputs": [
    {
     "data": {
      "text/plain": [
       "(40, 0, 0, 8)"
      ]
     },
     "execution_count": 48,
     "metadata": {},
     "output_type": "execute_result"
    }
   ],
   "source": [
    "a[:, np.newaxis, np.newaxis, :].strides"
   ]
  },
  {
   "cell_type": "markdown",
   "id": "56e57ac8",
   "metadata": {
    "slideshow": {
     "slide_type": "fragment"
    }
   },
   "source": [
    "```python\n",
    "out = np.zeros((Na, Nb, Nc), dtype=float)\n",
    "for i in range(Na):\n",
    "    for j in range(Nb):\n",
    "        for k in range(Nc):\n",
    "            out[i, j, k] = ((a[i] > b[j]) * c[k]).sum()\n",
    "```\n",
    "\n",
    "<br/>\n",
    "\n",
    "```python\n",
    "out_ = (\n",
    "    (\n",
    "        a[:, np.newaxis, np.newaxis, :] > b[np.newaxis, :, np.newaxis, :]\n",
    "    ) * c[np.newaxis, np.newaxis, :, :]\n",
    ").sum(axis=-1)\n",
    "```"
   ]
  },
  {
   "cell_type": "markdown",
   "id": "85d2c68b",
   "metadata": {
    "slideshow": {
     "slide_type": "slide"
    }
   },
   "source": [
    "# Take Home Messages\n",
    "\n",
    "- the foundation data structure of `numpy`: `ndarray`\n",
    "- shared-memory view\n",
    "- indexing\n",
    "- broadcasting"
   ]
  },
  {
   "cell_type": "markdown",
   "id": "ffe690f4",
   "metadata": {
    "slideshow": {
     "slide_type": "subslide"
    }
   },
   "source": [
    "**NEVER** write nested loops ever again"
   ]
  },
  {
   "cell_type": "markdown",
   "id": "db8db9c3",
   "metadata": {
    "slideshow": {
     "slide_type": "fragment"
    }
   },
   "source": [
    "At any time, think of this picture and this talk when you want to apply nested loops on `ndarray`s:"
   ]
  },
  {
   "cell_type": "markdown",
   "id": "0871fc31",
   "metadata": {
    "slideshow": {
     "slide_type": "fragment"
    }
   },
   "source": [
    "![better-way](images/better_way.jpg)"
   ]
  },
  {
   "cell_type": "markdown",
   "id": "4ec7f1f4",
   "metadata": {
    "slideshow": {
     "slide_type": "slide"
    }
   },
   "source": [
    "# What's Missing in This Talk\n",
    "\n",
    "- row-major v.s column-major array\n",
    "  - the memory layout of the array\n",
    "  - the impact to the performance\n",
    "- sparse array"
   ]
  },
  {
   "cell_type": "markdown",
   "id": "8b654231",
   "metadata": {
    "slideshow": {
     "slide_type": "slide"
    }
   },
   "source": [
    "# Learning Resources\n",
    "\n",
    "\n",
    "- https://github.com/wadetb/tinynumpy\n",
    "  - pure python, `numpy` compliant implementation\n",
    "- https://github.com/dboyliao/numPY\n",
    "  - my work\n",
    "  - try to build a pure python implementation of `numpy`\n",
    "  - education purpose\n",
    "- https://github.com/rougier/numpy-100\n",
    "  - 100 numpy exercises with solutions"
   ]
  }
 ],
 "metadata": {
  "celltoolbar": "Slideshow",
  "kernelspec": {
   "display_name": "taipeipy-numpy",
   "language": "python",
   "name": "taipeipy-numpy"
  },
  "language_info": {
   "codemirror_mode": {
    "name": "ipython",
    "version": 3
   },
   "file_extension": ".py",
   "mimetype": "text/x-python",
   "name": "python",
   "nbconvert_exporter": "python",
   "pygments_lexer": "ipython3",
   "version": "3.10.8"
  }
 },
 "nbformat": 4,
 "nbformat_minor": 5
}
