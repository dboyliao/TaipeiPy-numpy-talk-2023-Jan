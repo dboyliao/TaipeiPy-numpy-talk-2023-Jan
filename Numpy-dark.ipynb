{
 "cells": [
  {
   "cell_type": "markdown",
   "id": "ef6ee7e1-4d54-4ed8-a065-98be1c7a6f30",
   "metadata": {
    "slideshow": {
     "slide_type": "slide"
    }
   },
   "source": [
    "## NumPy: the Dark Side and Its Applications\n",
    "\n",
    "![numpy-logo](images/NumPy_logo_2020.svg)\n",
    "\n",
    "**Dboy Liao**\n",
    "\n",
    "[Medium](https://medium.com/@dboyliao)\n",
    "[GitHub](https://github.com/dboyliao)\n",
    "[LinkedIn](https://www.linkedin.com/in/yin-chen-liao-69967188/)\n",
    "[CakeResume](https://www.cakeresume.com/dboyliao)"
   ]
  },
  {
   "cell_type": "markdown",
   "id": "c4258e52-d5f5-47e2-95d7-482685490b99",
   "metadata": {
    "slideshow": {
     "slide_type": "slide"
    }
   },
   "source": [
    "## Nature 2020 Review Paper\n",
    "\n",
    "![numpy-nature](images/numpy-nature.webp)\n",
    "\n",
    "[source](https://www.nature.com/articles/s41586-020-2649-2)"
   ]
  },
  {
   "cell_type": "markdown",
   "id": "1f30a480-22ad-4a2f-a009-252e9f6557f0",
   "metadata": {
    "slideshow": {
     "slide_type": "slide"
    }
   },
   "source": [
    "# The Numpy `ndarray`"
   ]
  },
  {
   "cell_type": "code",
   "execution_count": null,
   "id": "ea9fb6a8-5c9f-4e71-912b-025319b0c926",
   "metadata": {},
   "outputs": [],
   "source": []
  }
 ],
 "metadata": {
  "celltoolbar": "Slideshow",
  "kernelspec": {
   "display_name": "taipeipy-numpy",
   "language": "python",
   "name": "taipeipy-numpy"
  },
  "language_info": {
   "codemirror_mode": {
    "name": "ipython",
    "version": 3
   },
   "file_extension": ".py",
   "mimetype": "text/x-python",
   "name": "python",
   "nbconvert_exporter": "python",
   "pygments_lexer": "ipython3",
   "version": "3.10.8"
  }
 },
 "nbformat": 4,
 "nbformat_minor": 5
}
