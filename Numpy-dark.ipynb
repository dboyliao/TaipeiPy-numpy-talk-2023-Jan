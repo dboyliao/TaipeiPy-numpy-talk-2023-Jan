{
 "cells": [
  {
   "cell_type": "markdown",
   "id": "ef6ee7e1-4d54-4ed8-a065-98be1c7a6f30",
   "metadata": {
    "slideshow": {
     "slide_type": "slide"
    }
   },
   "source": [
    "## NumPy: the Dark Side and Its Applications\n",
    "\n",
    "![numpy-logo](images/NumPy_logo_2020.svg)\n",
    "\n",
    "**Dboy Liao**\n",
    "\n",
    "[Medium](https://medium.com/@dboyliao)\n",
    "[GitHub](https://github.com/dboyliao)\n",
    "[LinkedIn](https://www.linkedin.com/in/yin-chen-liao-69967188/)\n",
    "[CakeResume](https://www.cakeresume.com/dboyliao)"
   ]
  },
  {
   "cell_type": "markdown",
   "id": "1f30a480-22ad-4a2f-a009-252e9f6557f0",
   "metadata": {
    "slideshow": {
     "slide_type": "slide"
    }
   },
   "source": [
    "# The NumPy `ndarray`"
   ]
  },
  {
   "cell_type": "markdown",
   "id": "7a93bfc4",
   "metadata": {
    "slideshow": {
     "slide_type": "fragment"
    }
   },
   "source": [
    "```cpp\n",
    "int matrix[3][5];\n",
    "```"
   ]
  },
  {
   "cell_type": "markdown",
   "id": "3ca4d257",
   "metadata": {
    "slideshow": {
     "slide_type": "fragment"
    }
   },
   "source": [
    "- arbitrary shape?"
   ]
  },
  {
   "cell_type": "markdown",
   "id": "16e90736",
   "metadata": {
    "slideshow": {
     "slide_type": "fragment"
    }
   },
   "source": [
    "- flexible reshape?"
   ]
  },
  {
   "cell_type": "markdown",
   "id": "85108cee",
   "metadata": {
    "slideshow": {
     "slide_type": "fragment"
    }
   },
   "source": [
    "- different data type?"
   ]
  },
  {
   "cell_type": "markdown",
   "id": "02d78314",
   "metadata": {
    "slideshow": {
     "slide_type": "subslide"
    }
   },
   "source": [
    "![no-cpp](images/no_cpp.jpg)"
   ]
  },
  {
   "cell_type": "markdown",
   "id": "4a367509",
   "metadata": {
    "slideshow": {
     "slide_type": "subslide"
    }
   },
   "source": [
    "```python\n",
    "matrix = [\n",
    "    [1, 2, 3, 4, 5],\n",
    "    [6, 7, 8, 9, 10],\n",
    "    [11, 12, 13, 14, 15]\n",
    "]\n",
    "```"
   ]
  },
  {
   "cell_type": "markdown",
   "id": "3164210b",
   "metadata": {
    "ExecuteTime": {
     "end_time": "2023-01-02T04:27:54.561918Z",
     "start_time": "2023-01-02T04:27:54.544928Z"
    },
    "slideshow": {
     "slide_type": "fragment"
    }
   },
   "source": [
    "來寫個 `reshape` 吧!"
   ]
  },
  {
   "cell_type": "markdown",
   "id": "5c042390",
   "metadata": {
    "slideshow": {
     "slide_type": "fragment"
    }
   },
   "source": [
    "```python\n",
    "def reshape_(in_array: list, new_shape):\n",
    "   # 要怎麼決定 in_array 的 shape?\n",
    "   # 要怎麼檢查裡面的資料型態?\n",
    "   # 要怎麼檢查 new_shape 是合理的?\n",
    "   ...\n",
    "```"
   ]
  },
  {
   "cell_type": "markdown",
   "id": "86f78315",
   "metadata": {
    "slideshow": {
     "slide_type": "subslide"
    }
   },
   "source": [
    "```python\n",
    "matrix = [\n",
    "    [1, 2, 3, 4],\n",
    "    [5, 6, 7, 8, 9],\n",
    "    [10, 11, 12, '13']\n",
    "]\n",
    "```"
   ]
  },
  {
   "cell_type": "markdown",
   "id": "483df886",
   "metadata": {
    "slideshow": {
     "slide_type": "fragment"
    }
   },
   "source": [
    "- invalid 2D array\n",
    "   - invalid data type\n",
    "   - invalid shape"
   ]
  },
  {
   "cell_type": "markdown",
   "id": "dec7ca61",
   "metadata": {
    "slideshow": {
     "slide_type": "fragment"
    }
   },
   "source": [
    "我賭你不敢 😜"
   ]
  },
  {
   "cell_type": "markdown",
   "id": "0e581f13",
   "metadata": {
    "slideshow": {
     "slide_type": "subslide"
    }
   },
   "source": [
    "![better-way](images/better_way.jpg)"
   ]
  },
  {
   "cell_type": "code",
   "execution_count": 1,
   "id": "32fcff90",
   "metadata": {
    "ExecuteTime": {
     "end_time": "2023-01-03T09:11:47.464383Z",
     "start_time": "2023-01-03T09:11:47.366461Z"
    },
    "slideshow": {
     "slide_type": "subslide"
    }
   },
   "outputs": [
    {
     "data": {
      "text/plain": [
       "array([[ 0,  1,  2,  3],\n",
       "       [ 4,  5,  6,  7],\n",
       "       [ 8,  9, 10, 11],\n",
       "       [12, 13, 14, 15]], dtype=int8)"
      ]
     },
     "execution_count": 1,
     "metadata": {},
     "output_type": "execute_result"
    }
   ],
   "source": [
    "import numpy as np\n",
    "\n",
    "array = np.arange(16, dtype=np.int8).reshape(4, 4).copy()\n",
    "array"
   ]
  },
  {
   "cell_type": "code",
   "execution_count": 2,
   "id": "37b97b41",
   "metadata": {
    "ExecuteTime": {
     "end_time": "2023-01-03T09:11:47.469972Z",
     "start_time": "2023-01-03T09:11:47.466642Z"
    },
    "slideshow": {
     "slide_type": "fragment"
    }
   },
   "outputs": [
    {
     "data": {
      "text/plain": [
       "(4, 4)"
      ]
     },
     "execution_count": 2,
     "metadata": {},
     "output_type": "execute_result"
    }
   ],
   "source": [
    "array.shape"
   ]
  },
  {
   "cell_type": "code",
   "execution_count": 3,
   "id": "16d00a6c",
   "metadata": {
    "ExecuteTime": {
     "end_time": "2023-01-03T09:11:47.475398Z",
     "start_time": "2023-01-03T09:11:47.471805Z"
    },
    "slideshow": {
     "slide_type": "fragment"
    }
   },
   "outputs": [
    {
     "data": {
      "text/plain": [
       "(4, 1)"
      ]
     },
     "execution_count": 3,
     "metadata": {},
     "output_type": "execute_result"
    }
   ],
   "source": [
    "array.strides"
   ]
  },
  {
   "cell_type": "code",
   "execution_count": 4,
   "id": "d872a268",
   "metadata": {
    "ExecuteTime": {
     "end_time": "2023-01-03T09:11:47.481863Z",
     "start_time": "2023-01-03T09:11:47.478585Z"
    },
    "slideshow": {
     "slide_type": "fragment"
    }
   },
   "outputs": [
    {
     "data": {
      "text/plain": [
       "<memory at 0x10e5825a0>"
      ]
     },
     "execution_count": 4,
     "metadata": {},
     "output_type": "execute_result"
    }
   ],
   "source": [
    "array.data"
   ]
  },
  {
   "cell_type": "code",
   "execution_count": 5,
   "id": "fa668769",
   "metadata": {
    "ExecuteTime": {
     "end_time": "2023-01-03T09:11:47.486955Z",
     "start_time": "2023-01-03T09:11:47.483592Z"
    },
    "slideshow": {
     "slide_type": "fragment"
    }
   },
   "outputs": [
    {
     "data": {
      "text/plain": [
       "True"
      ]
     },
     "execution_count": 5,
     "metadata": {},
     "output_type": "execute_result"
    }
   ],
   "source": [
    "array.base is None"
   ]
  },
  {
   "cell_type": "markdown",
   "id": "5ec1f511",
   "metadata": {
    "slideshow": {
     "slide_type": "subslide"
    }
   },
   "source": [
    "![array-2d](images/array_2d.drawio.svg)"
   ]
  },
  {
   "cell_type": "markdown",
   "id": "e8290ce6",
   "metadata": {
    "slideshow": {
     "slide_type": "subslide"
    }
   },
   "source": [
    "![array-2d-flatten](images/array_2d_flatten.drawio.svg)"
   ]
  },
  {
   "cell_type": "code",
   "execution_count": 6,
   "id": "f325dbee",
   "metadata": {
    "ExecuteTime": {
     "end_time": "2023-01-03T09:11:47.493163Z",
     "start_time": "2023-01-03T09:11:47.489107Z"
    },
    "slideshow": {
     "slide_type": "subslide"
    }
   },
   "outputs": [
    {
     "data": {
      "text/plain": [
       "array([ 0,  1,  2,  3,  4,  5,  6,  7,  8,  9, 10, 11, 12, 13, 14, 15],\n",
       "      dtype=int8)"
      ]
     },
     "execution_count": 6,
     "metadata": {},
     "output_type": "execute_result"
    }
   ],
   "source": [
    "arr_flatten = array.ravel()\n",
    "arr_flatten"
   ]
  },
  {
   "cell_type": "code",
   "execution_count": 7,
   "id": "6af851b1",
   "metadata": {
    "ExecuteTime": {
     "end_time": "2023-01-03T09:11:47.499010Z",
     "start_time": "2023-01-03T09:11:47.494968Z"
    },
    "slideshow": {
     "slide_type": "fragment"
    }
   },
   "outputs": [
    {
     "data": {
      "text/plain": [
       "<module 'numpy.lib.stride_tricks' from '/Users/dboyliao/Work/open_source/Taipei.py/TaipeiPy-numpy-talk-2023-Jan/.venv/lib/python3.10/site-packages/numpy/lib/stride_tricks.py'>"
      ]
     },
     "execution_count": 7,
     "metadata": {},
     "output_type": "execute_result"
    }
   ],
   "source": [
    "# Dark Magic \n",
    "np.lib.stride_tricks"
   ]
  },
  {
   "cell_type": "code",
   "execution_count": 8,
   "id": "3e93c177",
   "metadata": {
    "ExecuteTime": {
     "end_time": "2023-01-03T09:11:47.504217Z",
     "start_time": "2023-01-03T09:11:47.501174Z"
    },
    "slideshow": {
     "slide_type": "subslide"
    }
   },
   "outputs": [],
   "source": [
    "def flat_list(ll, acc=None):\n",
    "    if acc is None:\n",
    "        acc = []\n",
    "    for l in ll:\n",
    "        if not isinstance(l, list):\n",
    "            acc.append(l)\n",
    "        else:\n",
    "            acc = flat_list(l, acc)\n",
    "    return acc"
   ]
  },
  {
   "cell_type": "code",
   "execution_count": 9,
   "id": "4fd1fbb3",
   "metadata": {
    "ExecuteTime": {
     "end_time": "2023-01-03T09:11:47.510313Z",
     "start_time": "2023-01-03T09:11:47.506215Z"
    },
    "slideshow": {
     "slide_type": "subslide"
    }
   },
   "outputs": [
    {
     "data": {
      "text/plain": [
       "[1, 2, 3, 4, 5, 6]"
      ]
     },
     "execution_count": 9,
     "metadata": {},
     "output_type": "execute_result"
    }
   ],
   "source": [
    "flat_list([[1, 2, 3], [4, 5, 6]])"
   ]
  },
  {
   "cell_type": "code",
   "execution_count": 10,
   "id": "64af0ffd",
   "metadata": {
    "ExecuteTime": {
     "end_time": "2023-01-03T09:11:47.521549Z",
     "start_time": "2023-01-03T09:11:47.517266Z"
    },
    "slideshow": {
     "slide_type": "fragment"
    }
   },
   "outputs": [
    {
     "data": {
      "text/plain": [
       "[1, 2, 3, 4, 5, 6, 1, 2, 3, 4]"
      ]
     },
     "execution_count": 10,
     "metadata": {},
     "output_type": "execute_result"
    }
   ],
   "source": [
    "flat_list([[1, 2, 3], [4, 5, 6], [1, 2, [3, 4]]])"
   ]
  },
  {
   "cell_type": "code",
   "execution_count": 11,
   "id": "085e1704",
   "metadata": {
    "ExecuteTime": {
     "end_time": "2023-01-03T09:11:47.527294Z",
     "start_time": "2023-01-03T09:11:47.523863Z"
    },
    "slideshow": {
     "slide_type": "subslide"
    }
   },
   "outputs": [],
   "source": [
    "def reshape_(in_array, new_shape):\n",
    "    flat_array = flat_list(in_array)\n",
    "    new_strides = []\n",
    "    acc = 1\n",
    "    for s in new_shape[::-1]:\n",
    "        new_strides.insert(0, acc*8)\n",
    "        acc *= s\n",
    "    return np.lib.stride_tricks.as_strided(\n",
    "        flat_array,\n",
    "        shape=new_shape,\n",
    "        strides=new_strides\n",
    "    )"
   ]
  },
  {
   "cell_type": "code",
   "execution_count": 12,
   "id": "e1c9c64d",
   "metadata": {
    "ExecuteTime": {
     "end_time": "2023-01-03T09:11:47.533647Z",
     "start_time": "2023-01-03T09:11:47.529382Z"
    },
    "slideshow": {
     "slide_type": "subslide"
    }
   },
   "outputs": [
    {
     "data": {
      "text/plain": [
       "array([[ 1,  2,  3],\n",
       "       [ 4,  5,  6],\n",
       "       [ 7,  8,  9],\n",
       "       [10, 11, 12],\n",
       "       [13, 14, 15]])"
      ]
     },
     "execution_count": 12,
     "metadata": {},
     "output_type": "execute_result"
    }
   ],
   "source": [
    "reshape_(\n",
    "    [\n",
    "        [1, 2, 3, 4, 5],\n",
    "        [6, 7, 8, 9, 10],\n",
    "        [11, 12, 13, 14, 15]\n",
    "    ],\n",
    "    (5, 3)\n",
    ")"
   ]
  },
  {
   "cell_type": "code",
   "execution_count": 13,
   "id": "33ede255",
   "metadata": {
    "ExecuteTime": {
     "end_time": "2023-01-03T09:11:47.540981Z",
     "start_time": "2023-01-03T09:11:47.535784Z"
    },
    "slideshow": {
     "slide_type": "subslide"
    }
   },
   "outputs": [
    {
     "data": {
      "text/plain": [
       "array([[               1,                2,                3],\n",
       "       [               4,                5,                6],\n",
       "       [               7,                8,                9],\n",
       "       [              10,               11,               12],\n",
       "       [              13,               14,               15],\n",
       "       [2251799813685248,                2,                8]])"
      ]
     },
     "execution_count": 13,
     "metadata": {},
     "output_type": "execute_result"
    }
   ],
   "source": [
    "reshape_(\n",
    "    [\n",
    "        [1, 2, 3, 4, 5],\n",
    "        [6, 7, 8, 9, 10],\n",
    "        [11, 12, 13, 14, 15]\n",
    "    ],\n",
    "    (6, 3)\n",
    ")"
   ]
  },
  {
   "cell_type": "markdown",
   "id": "d6aa87a4",
   "metadata": {
    "slideshow": {
     "slide_type": "slide"
    }
   },
   "source": [
    "# NumPy is All You Need"
   ]
  },
  {
   "cell_type": "markdown",
   "id": "c4258e52-d5f5-47e2-95d7-482685490b99",
   "metadata": {
    "slideshow": {
     "slide_type": "subslide"
    }
   },
   "source": [
    "###### Nature 2020 Review Paper\n",
    "\n",
    "![numpy-nature](images/numpy-nature.webp)\n",
    "\n",
    "[source](https://www.nature.com/articles/s41586-020-2649-2)"
   ]
  },
  {
   "cell_type": "markdown",
   "id": "416ba75b",
   "metadata": {
    "slideshow": {
     "slide_type": "subslide"
    }
   },
   "source": [
    "- indexing\n",
    "    - basic indexing\n",
    "    - advanced indexing"
   ]
  },
  {
   "cell_type": "markdown",
   "id": "65b41c4f",
   "metadata": {
    "slideshow": {
     "slide_type": "fragment"
    }
   },
   "source": [
    "- broadcasting"
   ]
  },
  {
   "cell_type": "markdown",
   "id": "93b787a9",
   "metadata": {
    "slideshow": {
     "slide_type": "fragment"
    }
   },
   "source": [
    "- vectorization"
   ]
  },
  {
   "cell_type": "markdown",
   "id": "0f581a01",
   "metadata": {
    "slideshow": {
     "slide_type": "fragment"
    }
   },
   "source": [
    "[Official Doc](https://numpy.org/doc/stable/user/basics.indexing.html)"
   ]
  },
  {
   "cell_type": "markdown",
   "id": "dbf18280",
   "metadata": {
    "slideshow": {
     "slide_type": "subslide"
    }
   },
   "source": [
    "![numpy-memorize](images/numpy-memorize.jpg)"
   ]
  },
  {
   "cell_type": "markdown",
   "id": "278ceae0",
   "metadata": {
    "slideshow": {
     "slide_type": "subslide"
    }
   },
   "source": [
    "![better-way](images/better_way.jpg)"
   ]
  },
  {
   "cell_type": "markdown",
   "id": "01ceef46",
   "metadata": {
    "slideshow": {
     "slide_type": "subslide"
    }
   },
   "source": [
    "![array-2d-flatten](images/array_2d_flatten.drawio.svg)"
   ]
  },
  {
   "cell_type": "code",
   "execution_count": 14,
   "id": "3cf32e08",
   "metadata": {
    "ExecuteTime": {
     "end_time": "2023-01-03T09:11:47.545773Z",
     "start_time": "2023-01-03T09:11:47.543085Z"
    },
    "slideshow": {
     "slide_type": "subslide"
    }
   },
   "outputs": [
    {
     "name": "stdout",
     "output_type": "stream",
     "text": [
      "1 == 4 * 0 + 1 * 1: True\n",
      "6 == 4 * 1 + 1 * 2: True\n"
     ]
    }
   ],
   "source": [
    "print(\"1 == 4 * 0 + 1 * 1:\", 1 == 4*0 + 1*1)\n",
    "print(\"6 == 4 * 1 + 1 * 2:\", 6 == 4*1 + 1*2)"
   ]
  },
  {
   "cell_type": "code",
   "execution_count": 15,
   "id": "8c88dbc6",
   "metadata": {
    "ExecuteTime": {
     "end_time": "2023-01-03T09:11:47.551034Z",
     "start_time": "2023-01-03T09:11:47.548294Z"
    },
    "slideshow": {
     "slide_type": "subslide"
    }
   },
   "outputs": [
    {
     "name": "stdout",
     "output_type": "stream",
     "text": [
      "arr_flatten[1] == array[0, 1]: True\n",
      "arr_flatten[6] == array[1, 2]: True\n"
     ]
    }
   ],
   "source": [
    "print(\"arr_flatten[1] == array[0, 1]:\", arr_flatten[1] == array[0, 1])\n",
    "print(\"arr_flatten[6] == array[1, 2]:\", arr_flatten[6] == array[1, 2])"
   ]
  },
  {
   "cell_type": "code",
   "execution_count": 16,
   "id": "2ac4dae6",
   "metadata": {
    "ExecuteTime": {
     "end_time": "2023-01-03T09:11:47.557425Z",
     "start_time": "2023-01-03T09:11:47.553671Z"
    },
    "slideshow": {
     "slide_type": "fragment"
    }
   },
   "outputs": [
    {
     "data": {
      "text/plain": [
       "(4, 1)"
      ]
     },
     "execution_count": 16,
     "metadata": {},
     "output_type": "execute_result"
    }
   ],
   "source": [
    "array.strides"
   ]
  },
  {
   "cell_type": "markdown",
   "id": "45c425df",
   "metadata": {
    "slideshow": {
     "slide_type": "subslide"
    }
   },
   "source": [
    "- linear offset: the offset of an element in the flattened array\n",
    "- $\\mathbf{arr}$: a m-dims array\n",
    "    - strides: $(s_0, s_1, ..., s_m)$\n",
    "    - shape: $(d_0, d_1, ..., d_m)$\n",
    "- $e = \\mathbf{arr}[i_0, i_1, ..., i_m]$, element in $\\mathbf{arr}$\n",
    "    - with linear offset $\\text{offset}_e$\n",
    "\n",
    "Then we have:\n",
    "\n",
    "$$\n",
    "    \\text{offset}_e = \\sum\\limits_{j=0}^{m} s_j \\cdot i_j\n",
    "$$"
   ]
  },
  {
   "cell_type": "markdown",
   "id": "92f5695f",
   "metadata": {
    "slideshow": {
     "slide_type": "slide"
    }
   },
   "source": [
    "# Applications"
   ]
  },
  {
   "cell_type": "markdown",
   "id": "41fa29cd",
   "metadata": {
    "slideshow": {
     "slide_type": "subslide"
    }
   },
   "source": [
    "## Shared Memory View"
   ]
  },
  {
   "cell_type": "code",
   "execution_count": 17,
   "id": "1deaf068",
   "metadata": {
    "ExecuteTime": {
     "end_time": "2023-01-03T09:11:47.563968Z",
     "start_time": "2023-01-03T09:11:47.559854Z"
    },
    "slideshow": {
     "slide_type": "subslide"
    }
   },
   "outputs": [
    {
     "data": {
      "text/plain": [
       "array([[[ 0,  1,  2],\n",
       "        [ 3,  4,  5],\n",
       "        [ 6,  7,  8]],\n",
       "\n",
       "       [[ 9, 10, 11],\n",
       "        [12, 13, 14],\n",
       "        [15, 16, 17]],\n",
       "\n",
       "       [[18, 19, 20],\n",
       "        [21, 22, 23],\n",
       "        [24, 25, 26]]])"
      ]
     },
     "execution_count": 17,
     "metadata": {},
     "output_type": "execute_result"
    }
   ],
   "source": [
    "cube = np.arange(3*3*3).reshape((3, 3, 3))\n",
    "cube"
   ]
  },
  {
   "cell_type": "markdown",
   "id": "b0c1fc60",
   "metadata": {
    "slideshow": {
     "slide_type": "fragment"
    }
   },
   "source": [
    "![array-3d](images/array-3d.drawio.svg)"
   ]
  },
  {
   "cell_type": "markdown",
   "id": "47eb63be",
   "metadata": {
    "slideshow": {
     "slide_type": "subslide"
    }
   },
   "source": [
    "### Time Series: Sliding Window with Shared-Memory View"
   ]
  },
  {
   "cell_type": "code",
   "execution_count": 18,
   "id": "f46ccb11",
   "metadata": {
    "ExecuteTime": {
     "end_time": "2023-01-03T09:11:47.572948Z",
     "start_time": "2023-01-03T09:11:47.567250Z"
    },
    "slideshow": {
     "slide_type": "fragment"
    }
   },
   "outputs": [
    {
     "data": {
      "text/plain": [
       "array([ 0,  1,  2,  3,  4,  5,  6,  7,  8,  9, 10, 11, 12, 13, 14, 15, 16,\n",
       "       17, 18, 19], dtype=int8)"
      ]
     },
     "execution_count": 18,
     "metadata": {},
     "output_type": "execute_result"
    }
   ],
   "source": [
    "data = np.arange(20, dtype=np.int8)\n",
    "data"
   ]
  },
  {
   "cell_type": "code",
   "execution_count": 19,
   "id": "a54091d9",
   "metadata": {
    "ExecuteTime": {
     "end_time": "2023-01-03T09:11:47.578181Z",
     "start_time": "2023-01-03T09:11:47.575259Z"
    },
    "slideshow": {
     "slide_type": "subslide"
    }
   },
   "outputs": [],
   "source": [
    "windows = np.lib.stride_tricks.as_strided(\n",
    "    data,\n",
    "    shape=(16, 5),\n",
    "    strides=(1, 1)\n",
    ")"
   ]
  },
  {
   "cell_type": "code",
   "execution_count": 20,
   "id": "bcb8c8fe",
   "metadata": {
    "ExecuteTime": {
     "end_time": "2023-01-03T09:11:47.582760Z",
     "start_time": "2023-01-03T09:11:47.580125Z"
    },
    "slideshow": {
     "slide_type": "subslide"
    }
   },
   "outputs": [],
   "source": [
    "X = windows[:, :4]\n",
    "Y = windows[:, 4]"
   ]
  },
  {
   "cell_type": "code",
   "execution_count": 21,
   "id": "95f43fcd",
   "metadata": {
    "ExecuteTime": {
     "end_time": "2023-01-03T09:11:47.589517Z",
     "start_time": "2023-01-03T09:11:47.585438Z"
    },
    "slideshow": {
     "slide_type": "fragment"
    }
   },
   "outputs": [
    {
     "data": {
      "text/plain": [
       "array([[ 0,  1,  2,  3],\n",
       "       [ 1,  2,  3,  4],\n",
       "       [ 2,  3,  4,  5],\n",
       "       [ 3,  4,  5,  6],\n",
       "       [ 4,  5,  6,  7],\n",
       "       [ 5,  6,  7,  8],\n",
       "       [ 6,  7,  8,  9],\n",
       "       [ 7,  8,  9, 10],\n",
       "       [ 8,  9, 10, 11],\n",
       "       [ 9, 10, 11, 12],\n",
       "       [10, 11, 12, 13],\n",
       "       [11, 12, 13, 14],\n",
       "       [12, 13, 14, 15],\n",
       "       [13, 14, 15, 16],\n",
       "       [14, 15, 16, 17],\n",
       "       [15, 16, 17, 18]], dtype=int8)"
      ]
     },
     "execution_count": 21,
     "metadata": {},
     "output_type": "execute_result"
    }
   ],
   "source": [
    "X"
   ]
  },
  {
   "cell_type": "code",
   "execution_count": 22,
   "id": "9920197b",
   "metadata": {
    "ExecuteTime": {
     "end_time": "2023-01-03T09:11:47.595046Z",
     "start_time": "2023-01-03T09:11:47.591135Z"
    },
    "slideshow": {
     "slide_type": "subslide"
    }
   },
   "outputs": [
    {
     "data": {
      "text/plain": [
       "array([ 4,  5,  6,  7,  8,  9, 10, 11, 12, 13, 14, 15, 16, 17, 18, 19],\n",
       "      dtype=int8)"
      ]
     },
     "execution_count": 22,
     "metadata": {},
     "output_type": "execute_result"
    }
   ],
   "source": [
    "Y"
   ]
  },
  {
   "cell_type": "code",
   "execution_count": 23,
   "id": "46eaf70b",
   "metadata": {
    "ExecuteTime": {
     "end_time": "2023-01-03T09:11:47.600512Z",
     "start_time": "2023-01-03T09:11:47.596777Z"
    },
    "slideshow": {
     "slide_type": "subslide"
    }
   },
   "outputs": [
    {
     "data": {
      "text/plain": [
       "(True, True)"
      ]
     },
     "execution_count": 23,
     "metadata": {},
     "output_type": "execute_result"
    }
   ],
   "source": [
    "X.base is windows, Y.base is windows"
   ]
  },
  {
   "cell_type": "markdown",
   "id": "253fd7a3",
   "metadata": {
    "slideshow": {
     "slide_type": "subslide"
    }
   },
   "source": [
    "## Nested Loop and Vectorization (Broadcasting)"
   ]
  },
  {
   "cell_type": "code",
   "execution_count": 24,
   "id": "97cd5b85",
   "metadata": {
    "ExecuteTime": {
     "end_time": "2023-01-03T09:11:47.606108Z",
     "start_time": "2023-01-03T09:11:47.602753Z"
    },
    "slideshow": {
     "slide_type": "fragment"
    }
   },
   "outputs": [],
   "source": [
    "Na, Nb, Nc = 20, 30, 50\n",
    "a = np.random.rand(Na, 5)\n",
    "b = np.random.rand(Nb, 5)\n",
    "c = np.random.rand(Nc, 1)"
   ]
  },
  {
   "cell_type": "code",
   "execution_count": 25,
   "id": "29d124f5",
   "metadata": {
    "ExecuteTime": {
     "end_time": "2023-01-03T09:11:47.781118Z",
     "start_time": "2023-01-03T09:11:47.608710Z"
    },
    "slideshow": {
     "slide_type": "subslide"
    }
   },
   "outputs": [
    {
     "name": "stdout",
     "output_type": "stream",
     "text": [
      "CPU times: user 170 ms, sys: 44.5 ms, total: 215 ms\n",
      "Wall time: 169 ms\n"
     ]
    }
   ],
   "source": [
    "%%time\n",
    "out = np.zeros((Na, Nb, Nc), dtype=float)\n",
    "for i in range(Na):\n",
    "    for j in range(Nb):\n",
    "        for k in range(Nc):\n",
    "            out[i, j, k] = ((a[i] > b[j]) * c[k]).sum()"
   ]
  },
  {
   "cell_type": "markdown",
   "id": "ce730f6d",
   "metadata": {
    "slideshow": {
     "slide_type": "subslide"
    }
   },
   "source": [
    "![better-way](images/better_way.jpg)"
   ]
  },
  {
   "cell_type": "code",
   "execution_count": 26,
   "id": "310076d7",
   "metadata": {
    "ExecuteTime": {
     "end_time": "2023-01-03T09:11:47.788124Z",
     "start_time": "2023-01-03T09:11:47.782850Z"
    },
    "slideshow": {
     "slide_type": "subslide"
    }
   },
   "outputs": [
    {
     "name": "stdout",
     "output_type": "stream",
     "text": [
      "CPU times: user 1.83 ms, sys: 1.06 ms, total: 2.89 ms\n",
      "Wall time: 1.49 ms\n"
     ]
    },
    {
     "data": {
      "text/plain": [
       "(20, 30, 50)"
      ]
     },
     "execution_count": 26,
     "metadata": {},
     "output_type": "execute_result"
    }
   ],
   "source": [
    "%%time\n",
    "out_ = (\n",
    "    (\n",
    "        a[:, np.newaxis, np.newaxis, :] > b[np.newaxis, :, np.newaxis, :]\n",
    "    ) * c[np.newaxis, np.newaxis, :, :]\n",
    ").sum(axis=-1)\n",
    "out_.shape"
   ]
  },
  {
   "cell_type": "code",
   "execution_count": 27,
   "id": "182de600",
   "metadata": {
    "ExecuteTime": {
     "end_time": "2023-01-03T09:11:47.793689Z",
     "start_time": "2023-01-03T09:11:47.789888Z"
    },
    "slideshow": {
     "slide_type": "fragment"
    }
   },
   "outputs": [
    {
     "data": {
      "text/plain": [
       "True"
      ]
     },
     "execution_count": 27,
     "metadata": {},
     "output_type": "execute_result"
    }
   ],
   "source": [
    "np.allclose(\n",
    "    out,\n",
    "    out_\n",
    ")"
   ]
  },
  {
   "cell_type": "markdown",
   "id": "56e57ac8",
   "metadata": {
    "slideshow": {
     "slide_type": "subslide"
    }
   },
   "source": [
    "```python\n",
    "out = np.zeros((Na, Nb, Nc), dtype=float)\n",
    "for i in range(Na):\n",
    "    for j in range(Nb):\n",
    "        for k in range(Nc):\n",
    "            out[i, j, k] = ((a[i] > b[j]) * c[k]).sum()\n",
    "```\n",
    "\n",
    "<br/>\n",
    "<br/>\n",
    "\n",
    "```python\n",
    "out_ = (\n",
    "    (\n",
    "        a[:, np.newaxis, np.newaxis, :] > b[np.newaxis, :, np.newaxis, :]\n",
    "    ) * c[np.newaxis, np.newaxis, :, :]\n",
    ").sum(axis=-1)\n",
    "```"
   ]
  },
  {
   "cell_type": "markdown",
   "id": "85d2c68b",
   "metadata": {
    "slideshow": {
     "slide_type": "slide"
    }
   },
   "source": [
    "# Take Home Messages\n",
    "\n",
    "- the foundation data structure of `numpy`: `ndarray`\n",
    "- shared-memory view\n",
    "- indexing\n",
    "- broadcasting"
   ]
  },
  {
   "cell_type": "markdown",
   "id": "ffe690f4",
   "metadata": {
    "slideshow": {
     "slide_type": "subslide"
    }
   },
   "source": [
    "**NEVER** write nested loops ever again"
   ]
  },
  {
   "cell_type": "markdown",
   "id": "db8db9c3",
   "metadata": {
    "slideshow": {
     "slide_type": "fragment"
    }
   },
   "source": [
    "At any time, think of this picture and this talk when you want to apply nested loops on `ndarray`s:"
   ]
  },
  {
   "cell_type": "markdown",
   "id": "0871fc31",
   "metadata": {
    "slideshow": {
     "slide_type": "fragment"
    }
   },
   "source": [
    "![better-way](images/better_way.jpg)"
   ]
  },
  {
   "cell_type": "markdown",
   "id": "8b654231",
   "metadata": {
    "slideshow": {
     "slide_type": "slide"
    }
   },
   "source": [
    "# Learning Resources\n",
    "\n",
    "\n",
    "- https://github.com/wadetb/tinynumpy\n",
    "  - pure python, `numpy` compliant implementation\n",
    "- https://github.com/dboyliao/numPY\n",
    "  - my work\n",
    "  - try to build a pure python implementation of `numpy`\n",
    "  - education purpose\n",
    "- https://github.com/rougier/numpy-100\n",
    "  - 100 numpy exercises with solutions"
   ]
  }
 ],
 "metadata": {
  "celltoolbar": "Slideshow",
  "kernelspec": {
   "display_name": "taipeipy-numpy",
   "language": "python",
   "name": "taipeipy-numpy"
  },
  "language_info": {
   "codemirror_mode": {
    "name": "ipython",
    "version": 3
   },
   "file_extension": ".py",
   "mimetype": "text/x-python",
   "name": "python",
   "nbconvert_exporter": "python",
   "pygments_lexer": "ipython3",
   "version": "3.10.8"
  }
 },
 "nbformat": 4,
 "nbformat_minor": 5
}
